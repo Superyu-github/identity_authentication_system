{
 "cells": [
  {
   "cell_type": "code",
   "execution_count": 131,
   "metadata": {
    "collapsed": true
   },
   "outputs": [
    {
     "name": "stdout",
     "output_type": "stream",
     "text": [
      "['A', '1637819188.150541']\n"
     ]
    }
   ],
   "source": [
    "import re\n",
    "rece_data = \"A,1637819188.150541\"\n",
    "pattern = re.compile(r\"[A-Z]|\\d+\\.\\d+\")\n",
    "cam_data = re.findall(pattern,rece_data)\n",
    "print(cam_data)\n"
   ]
  }
 ],
 "metadata": {
  "kernelspec": {
   "display_name": "Python 3",
   "language": "python",
   "name": "python3"
  },
  "language_info": {
   "codemirror_mode": {
    "name": "ipython",
    "version": 2
   },
   "file_extension": ".py",
   "mimetype": "text/x-python",
   "name": "python",
   "nbconvert_exporter": "python",
   "pygments_lexer": "ipython2",
   "version": "2.7.6"
  }
 },
 "nbformat": 4,
 "nbformat_minor": 0
}